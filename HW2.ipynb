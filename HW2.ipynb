{
 "cells": [
  {
   "cell_type": "code",
   "execution_count": 3,
   "metadata": {
    "collapsed": false
   },
   "outputs": [],
   "source": [
    "import csv\n",
    "\n",
    "circles = []\n",
    "edges = []\n",
    "feats = []\n",
    "\n",
    "f = open(\"C:/school/cuny/620/fb/facebook/0.circles\", \"r\")\n",
    "\n",
    "reader = csv.reader(f, delimiter = '\\t')\n",
    "for circle in reader:\n",
    "    circles.append(circle)\n",
    "f.close()\n",
    "\n",
    "f = open(\"C:/school/cuny/620/fb/facebook/0.edges\", \"r\")\n",
    "\n",
    "reader = csv.reader(f, delimiter = ' ')\n",
    "for edge in reader:\n",
    "    edges.append(edge)\n",
    "f.close()\n",
    "\n",
    "\n",
    "f = open(\"C:/school/cuny/620/fb/facebook/0.feat\", \"r\")\n",
    "\n",
    "reader = csv.reader(f, delimiter = ' ')\n",
    "for feat in reader:\n",
    "    feats.append(feat)\n",
    "f.close()\n",
    "\n",
    "feat"
   ]
  },
  {
   "cell_type": "code",
   "execution_count": null,
   "metadata": {
    "collapsed": true
   },
   "outputs": [],
   "source": []
  },
  {
   "cell_type": "code",
   "execution_count": null,
   "metadata": {
    "collapsed": false
   },
   "outputs": [],
   "source": [
    "import networkx as nx\n",
    "import matplotlib.pyplot as plt\n",
    "\n",
    "#create empty graph object\n",
    "G = nx.Graph()\n",
    "\n",
    "#[[float(y) for y in x] for x in l]\n",
    "#don't add circle0, circle1, circle2...etc. text as a node\n",
    "[[G.add_node(circles[i][j], circle= circles[i][0]) for j in range(1, len(circles[i])) ] for i in range(0, len(circles))]\n",
    "\n",
    "[G.add_edge(edges[i][0], edges[i][1]) for i in range(len(edges))]\n",
    "\n",
    "nx.draw(G, with_labels=True, nodecolor = 'r', edge_color='b')\n",
    "plt.show()\n",
    "\n",
    "\n",
    "[G.add_node(circles[0][i], circle= circles[0][0]) for i in range(1, len(circles[0]))]\n",
    "\n"
   ]
  }
 ],
 "metadata": {
  "kernelspec": {
   "display_name": "Python 2",
   "language": "python",
   "name": "python2"
  },
  "language_info": {
   "codemirror_mode": {
    "name": "ipython",
    "version": 2
   },
   "file_extension": ".py",
   "mimetype": "text/x-python",
   "name": "python",
   "nbconvert_exporter": "python",
   "pygments_lexer": "ipython2",
   "version": "2.7.13"
  }
 },
 "nbformat": 4,
 "nbformat_minor": 2
}
