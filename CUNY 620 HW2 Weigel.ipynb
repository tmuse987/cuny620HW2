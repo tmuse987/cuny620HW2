{
 "cells": [
  {
   "cell_type": "markdown",
   "metadata": {},
   "source": [
    "CUNY 620 HW2\n",
    "\n",
    "File imported was from here:\n",
    "https://snap.stanford.edu/data/email-Eu-core.html\n",
    "\n",
    "This link lists two files, the below using the file containing list nodes of emails sent from a large european research institution, to other members in the institution.  (The other file contains department labels and was not used.)\n",
    "\n",
    "The below section of codes reads the file and places them into an list of edges, containing a tuple of source node and destination node.  A second list is created from this, with just the unique source nodes (note this would obviously exclude destination nodes that did not send emails, but excluding those limited nodes, does not seem problematic).\n",
    "\n",
    "To make this work make sure file email-Eu-core.txt is in the active directory this python script is executed from."
   ]
  },
  {
   "cell_type": "code",
   "execution_count": 51,
   "metadata": {
    "collapsed": false
   },
   "outputs": [],
   "source": [
    "import csv\n",
    "\n",
    "nodes = []\n",
    "edges = []\n",
    "\n",
    "#note file must be in directory script is executing from\n",
    "f = open(\"email-Eu-core.txt\", \"r\")\n",
    "\n",
    "reader = csv.reader(f, delimiter = ' ')\n",
    "for edge in reader:\n",
    "    edges.append(edge)\n",
    "f.close()\n",
    "\n",
    "edges = [[int(edge[0]), int(edge[1])] for edge in edges]\n",
    "\n",
    "[nodes.append(edges[i][0]) for i in range(0, len(edges))];\n",
    "nodes = list(set(nodes))"
   ]
  },
  {
   "cell_type": "markdown",
   "metadata": {},
   "source": [
    "Below we make a graph out of the list of nodes and add the edges.  Note this graph was not a fully connected graph (i.e., some nodes were isolated from the main set of nodes), since part of the assignment was to explore a diameter of a graph, a subgraph was created, by using the dfs.edges function to walk a path of connected nodes.\n",
    "\n",
    "After finding the diameter, we then find the dgree of a couple of nodes (i.e., how many edges for each node)."
   ]
  },
  {
   "cell_type": "code",
   "execution_count": 60,
   "metadata": {
    "collapsed": false
   },
   "outputs": [
    {
     "name": "stdout",
     "output_type": "stream",
     "text": [
      "The diameter of the connected graph is: 6\n"
     ]
    },
    {
     "data": {
      "text/plain": [
       "DegreeView({0: 44, 1: 48})"
      ]
     },
     "execution_count": 60,
     "metadata": {},
     "output_type": "execute_result"
    }
   ],
   "source": [
    "import networkx as nx\n",
    "import networkx.algorithms.distance_measures as distance\n",
    "import networkx.classes.function as gFunc\n",
    "import networkx.algorithms.traversal  as traverse\n",
    "\n",
    "G = nx.Graph()\n",
    "\n",
    "[G.add_node(node) for node in nodes];\n",
    "[G.add_edge(edge[0], edge[1]) for edge in edges];\n",
    "\n",
    "#find a connected graph...i.e., weed out all nodes that don't connect to node 0, which are only a handful\n",
    "connectedPath =  list(traverse.dfs_edges(G, 0));\n",
    "\n",
    "connectedGraph = nx.Graph()\n",
    "[connectedGraph.add_node(node[0]) for node in connectedPath];\n",
    "\n",
    "connectedNodes = []\n",
    "[connectedNodes.append(node[0]) for node in connectedPath];\n",
    "[connectedGraph.add_edge(edge[0], edge[1]) for edge in edges if edge[0] in connectedNodes];\n",
    "\n",
    "#this takes a bit ~15-30secs\n",
    "print(\"The diameter of the connected graph is: \" + str(distance.diameter(connectedGraph)))\n",
    "\n",
    "gFunc.degree(connectedGraph, [0,1])"
   ]
  },
  {
   "cell_type": "markdown",
   "metadata": {},
   "source": [
    "Below we print the length of the list of edges.  Note how degree is 1 greater than len of the edges...this is due to edges connecting back to the same node being counted twice (e.g., node 0 has an edge back to node 0)."
   ]
  },
  {
   "cell_type": "code",
   "execution_count": 61,
   "metadata": {
    "collapsed": false
   },
   "outputs": [
    {
     "name": "stdout",
     "output_type": "stream",
     "text": [
      "The length of the list of edges for node 0 is:43\n",
      "The length of the list of edges for node 1 is:47\n"
     ]
    },
    {
     "data": {
      "text/plain": [
       "DegreeView({0: 44, 1: 48})"
      ]
     },
     "execution_count": 61,
     "metadata": {},
     "output_type": "execute_result"
    }
   ],
   "source": [
    "connectedGraph.edges([0])\n",
    "print(\"The length of the list of edges for node 0 is:\" + str(len(connectedGraph.edges([0]))))\n",
    "\n",
    "connectedGraph.edges([1])\n",
    "print(\"The length of the list of edges for node 1 is:\" + str(len(connectedGraph.edges([1]))))\n",
    "\n",
    "\n",
    "gFunc.degree(connectedGraph, [0,1])"
   ]
  },
  {
   "cell_type": "markdown",
   "metadata": {},
   "source": [
    "Lastly, we write a couple of lines of code to export data of the connected graph that will be used for a neo4j import."
   ]
  },
  {
   "cell_type": "code",
   "execution_count": 59,
   "metadata": {
    "collapsed": false
   },
   "outputs": [],
   "source": [
    "with open('email-sourceIDs.txt', 'w') as f:     \n",
    "    [f.write(str(node) + '\\n') for node in list(connectedGraph.nodes)]\n",
    "    \n",
    "with open('email-edges.txt', 'w') as f:     \n",
    "    [f.write(str(edge[0]) + ',' + str(edge[1])+ '\\n') for edge in list(connectedGraph.edges)]    \n",
    "    \n",
    "with open('email-edges.txt', 'w') as f:     \n",
    "    [f.write(str(edge[0]) + ',' + str(edge[1])+ '\\n') for edge in list(connectedGraph.edges)]    \n",
    "    \n",
    "edgesForNodesGTE700 = []    \n",
    "[edgesForNodesGTE700.append(edge) for edge in list(connectedGraph.edges())[16000:] if edge[0] >= 700]\n",
    "\n",
    "with open('email-edges-subset.txt', 'w') as f:     \n",
    "    [f.write(str(edge[0]) + ',' + str(edge[1])+ '\\n') for edge in list(edgesForNodesGTE700)]    \n"
   ]
  }
 ],
 "metadata": {
  "kernelspec": {
   "display_name": "Python 2",
   "language": "python",
   "name": "python2"
  },
  "language_info": {
   "codemirror_mode": {
    "name": "ipython",
    "version": 2
   },
   "file_extension": ".py",
   "mimetype": "text/x-python",
   "name": "python",
   "nbconvert_exporter": "python",
   "pygments_lexer": "ipython2",
   "version": "2.7.13"
  }
 },
 "nbformat": 4,
 "nbformat_minor": 2
}
